{
 "cells": [
  {
   "cell_type": "code",
   "execution_count": 1,
   "metadata": {},
   "outputs": [
    {
     "name": "stdout",
     "output_type": "stream",
     "text": [
      "The determinant of the matrix is: -a**3 + 6*a**2 - 8*a\n"
     ]
    }
   ],
   "source": [
    "import sympy as sp\n",
    "\n",
    "# Define your matrix\n",
    "# You can change the elements of the matrix to what you need\n",
    "a = sp.symbols('a')\n",
    "\n",
    "\n",
    "matrix = sp.Matrix([\n",
    "    [2 - a, -1, 3],\n",
    "    [3, 1 - a, 0],\n",
    "    [2, -1, 3 - a]\n",
    "])\n",
    "\n",
    "# Calculate the determinant\n",
    "determinant = matrix.det()\n",
    "\n",
    "determinant\n"
   ]
  }
 ],
 "metadata": {
  "kernelspec": {
   "display_name": "ds",
   "language": "python",
   "name": "ds"
  },
  "language_info": {
   "codemirror_mode": {
    "name": "ipython",
    "version": 3
   },
   "file_extension": ".py",
   "mimetype": "text/x-python",
   "name": "python",
   "nbconvert_exporter": "python",
   "pygments_lexer": "ipython3",
   "version": "3.9.18"
  }
 },
 "nbformat": 4,
 "nbformat_minor": 2
}
